{
 "cells": [
  {
   "cell_type": "markdown",
   "id": "0",
   "metadata": {},
   "source": [
    "# Lab 5 - Hint 3 (Least Tough)\n",
    "\n",
    "Turn the glitch off and capture a power trace. `scope.adc.trig_count` will tell you how many ADC cycles the trigger was high for. Keep in mind that, by default, the ADC clock (`scope.clock.adc_mul`) is 4x the target clock, so an `ext_offset` of `1000` corresponds to a `trig_count` of 4000. Also remember that this second glitch is offset from the first glitch, not the trigger, so you need to account for that as well."
   ]
  }
 ],
 "metadata": {
  "kernelspec": {
   "display_name": "Python 3 (ipykernel)",
   "language": "python",
   "name": "python3"
  },
  "language_info": {
   "codemirror_mode": {
    "name": "ipython",
    "version": 3
   },
   "file_extension": ".py",
   "mimetype": "text/x-python",
   "name": "python",
   "nbconvert_exporter": "python",
   "pygments_lexer": "ipython3",
   "version": "3.9.5"
  }
 },
 "nbformat": 4,
 "nbformat_minor": 5
}
