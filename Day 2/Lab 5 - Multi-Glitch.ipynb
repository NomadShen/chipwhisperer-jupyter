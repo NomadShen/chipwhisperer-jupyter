{
 "cells": [
  {
   "cell_type": "markdown",
   "id": "0",
   "metadata": {},
   "source": [
    "# Lab 5 - Multi-glitch\n",
    "\n",
    "**SUMMARY:** *In this lab, we'll modify our original glitch loop to prevent glitched data from leaking from our target. After implementing these changes, we'll take a look at how we can use the Husky's new multi-glitch feature to break past the countermeasures*\n",
    "\n",
    "**LEARNING OUTCOMES:**\n",
    "\n",
    "* Implementing countermeasures in firmware\n",
    "* Differentiating between partial success and normal glitch results\n",
    "* Using ChipWhisperer-Husky's multi-glitch feature\n",
    "\n",
    "## Modifying Firmware\n",
    "\n",
    "In this lab, we'll be revisiting the `simpleserial-glitch` firmware from the first glitch lab we did. This code is pretty simple, so it's easy to modify. It's also fast, which means we can quickly try different glitch settings on it. \n",
    "\n",
    "Let's pretend that this loop calculation is actually using sensitive data and that, if this calculation is glitched, the sensitive data will leak. We'll also assume that the end value of the calculation can be verified, but that the firmware can't just send it out instead of doing the calculation. Sound familiar?\n",
    "\n",
    "Start by opening up `chipwhisperer/hardware/victims/firmware/simpleserial-glitch/simpleserial-glitch.c`. The change we're going to make to it is very simple: if we detect an incorrect calculation, we'll send out a series of 0's instead of the glitched value:\n",
    "\n",
    "```C\n",
    "if SS_VER == SS_VER_2_1\n",
    "uint8_t glitch_loop(uint8_t cmd, uint8_t scmd, uint8_t len, uint8_t* in)\n",
    "#else\n",
    "uint8_t glitch_loop(uint8_t* in, uint8_t len)\n",
    "#endif\n",
    "{\n",
    "    volatile uint16_t i, j;\n",
    "    volatile uint32_t cnt;\n",
    "    cnt = 0;\n",
    "    trigger_high();\n",
    "    for(i=0; i<50; i++){\n",
    "        for(j=0; j<50; j++){\n",
    "            cnt++;\n",
    "        }\n",
    "    }\n",
    "    trigger_low();\n",
    "\n",
    "    if (cnt == 2500) {\n",
    "        simpleserial_put('r', 4, (uint8_t*)&cnt);\n",
    "        return 0x00;\n",
    "    } else {\n",
    "        uint32_t fallback = 0; //avoid using same variable, just in case\n",
    "        simpleserial_put('r', 4, (uint8_t*)&fallback);\n",
    "        return 0x10;\n",
    "    }\n",
    "    return 0x10;\n",
    "}\n",
    "```\n",
    "\n",
    "Now, the firmware should avoid sending out glitched values. As you might've guessed, our goal for this lab will be to glitch both the loop and the subsequent check so that we still get the corrupted value back.\n",
    "\n",
    "Let's connect and program as usual:"
   ]
  },
  {
   "cell_type": "code",
   "execution_count": null,
   "id": "1",
   "metadata": {},
   "outputs": [],
   "source": [
    "SCOPETYPE = 'OPENADC'\n",
    "PLATFORM = 'CW308_SAM4S'\n",
    "SS_VER = 'SS_VER_2_1'"
   ]
  },
  {
   "cell_type": "code",
   "execution_count": null,
   "id": "2",
   "metadata": {},
   "outputs": [],
   "source": [
    "%run \"../Setup_Scripts/Setup_Generic.ipynb\""
   ]
  },
  {
   "cell_type": "code",
   "execution_count": null,
   "id": "3",
   "metadata": {},
   "outputs": [],
   "source": [
    "%%bash -s \"$PLATFORM\" \"$SS_VER\"\n",
    "cd ../../hardware/victims/firmware/simpleserial-glitch\n",
    "make PLATFORM=$1 CRYPTO_TARGET=NONE SS_VER=$2 -j"
   ]
  },
  {
   "cell_type": "code",
   "execution_count": null,
   "id": "4",
   "metadata": {},
   "outputs": [],
   "source": [
    "fw_path = \"../../hardware/victims/firmware/simpleserial-glitch/simpleserial-glitch-{}.hex\".format(PLATFORM)\n",
    "cw.program_target(scope, prog, fw_path)\n",
    "if SS_VER==\"SS_VER_2_1\":\n",
    "    target.reset_comms()"
   ]
  },
  {
   "cell_type": "markdown",
   "id": "5",
   "metadata": {},
   "source": [
    "Make sure your code still works as normal without glitching:"
   ]
  },
  {
   "cell_type": "code",
   "execution_count": null,
   "id": "6",
   "metadata": {},
   "outputs": [],
   "source": [
    "# Code Block 1\n",
    "scope.arm()\n",
    "target.simpleserial_write(\"g\", [])\n",
    "scope.capture()\n",
    "\n",
    "val = target.simpleserial_read('r', 4)\n",
    "print(val)"
   ]
  },
  {
   "cell_type": "markdown",
   "id": "7",
   "metadata": {},
   "source": [
    "Next, we'll do all our normal glitch stuff:"
   ]
  },
  {
   "cell_type": "code",
   "execution_count": null,
   "id": "8",
   "metadata": {},
   "outputs": [],
   "source": [
    "def reboot_flush():\n",
    "    reset_target(scope)\n",
    "    target.flush()"
   ]
  },
  {
   "cell_type": "code",
   "execution_count": null,
   "id": "9",
   "metadata": {},
   "outputs": [],
   "source": [
    "scope.vglitch_setup('hp', False)"
   ]
  },
  {
   "cell_type": "markdown",
   "id": "10",
   "metadata": {},
   "source": [
    "One thing that you might've noticed about the firmware is that you can still tell when the loop is being glitched, even if we don't actually get the glitched value back. This is because the device still sends back an error code and a series of zeros. In fact, it's actually really hard for the target to hide this information - even if it redoes the calculation, we can still tell we got a glitch because it'll take longer for us to receive the result. We could also look at the power trace and see that the device is doing two calculations instead of one.\n",
    "\n",
    "This is very valuable information, as we can search for successful settings to glitch the loop before trying to find settings to glitch the verification.\n",
    "\n",
    "We'll setup the glitch controller as normal, but we'll add a new `\"partial_success\"` group to record when we glitch the loop but not past the verification."
   ]
  },
  {
   "cell_type": "code",
   "execution_count": null,
   "id": "11",
   "metadata": {},
   "outputs": [],
   "source": [
    "import chipwhisperer as cw\n",
    "gc = cw.GlitchController(groups=[\"partial_success\", \"success\", \"reset\", \"normal\"], parameters=[\"width\", \"offset\", \"ext_offset\"])\n",
    "gc.display_stats()\n",
    "\n",
    "gc.glitch_plot(plotdots={\"success\":\"+g\", \"reset\":\"xr\", \"normal\":None, \"partial_success\":\"xy\"}, x_index=\"width\", y_index=\"offset\")"
   ]
  },
  {
   "cell_type": "markdown",
   "id": "12",
   "metadata": {},
   "source": [
    "Next, fill in settings to glitch the loop:"
   ]
  },
  {
   "cell_type": "code",
   "execution_count": null,
   "id": "13",
   "metadata": {},
   "outputs": [],
   "source": [
    "gc.set_range(\"ext_offset\", 0, 100)\n",
    "gc.set_range(\"width\", ???, ???)\n",
    "gc.set_range(\"offset\", ???, ???)\n",
    "\n",
    "gc.set_global_step([???]) # reduce to fine tune glitching\n",
    "gc.set_step(\"ext_offset\", 1)"
   ]
  },
  {
   "cell_type": "markdown",
   "id": "14",
   "metadata": {},
   "source": [
    "And write your loop to glitch the loop:"
   ]
  },
  {
   "cell_type": "code",
   "execution_count": null,
   "id": "15",
   "metadata": {},
   "outputs": [],
   "source": [
    "# ###################\n",
    "# Add your code here to glitch the loop calculation (Code Block 1)\n",
    "# ###################\n",
    "raise NotImplementedError(\"Add your code here, and delete this.\")"
   ]
  },
  {
   "cell_type": "markdown",
   "id": "16",
   "metadata": {},
   "source": [
    "Good job! Let's see if we can glitch the verfication as well. We'll begin by setting up the multi-glitch part of the glitch module:"
   ]
  },
  {
   "cell_type": "code",
   "execution_count": null,
   "id": "17",
   "metadata": {},
   "outputs": [],
   "source": [
    "scope.glitch.num_glitches = 2"
   ]
  },
  {
   "cell_type": "markdown",
   "id": "18",
   "metadata": {},
   "source": [
    "And that's it! `ext_offset` and `repeat` are now arrays:"
   ]
  },
  {
   "cell_type": "code",
   "execution_count": null,
   "id": "19",
   "metadata": {},
   "outputs": [],
   "source": [
    "print(scope.glitch.ext_offset)\n",
    "print(scope.glitch.repeat)"
   ]
  },
  {
   "cell_type": "markdown",
   "id": "20",
   "metadata": {},
   "source": [
    "`width`/`offset` are the same for each glitch, so we don't have to worry about that. We'll keep repeat at 1, so no need to worry about that as well. We'll also keep the first `ext_offset` value constant, so this is almost the same as doing a single glitch. You can see how to set `ext_offset` below. **Note that the second ext_offset is an offset from the first glitch, so `[100, 50]` will put glitches at an `ext_offset` of 100 and 150.**"
   ]
  },
  {
   "cell_type": "code",
   "execution_count": null,
   "id": "21",
   "metadata": {},
   "outputs": [],
   "source": [
    "scope.glitch.ext_offset = [scope.glitch.ext_offset[0], 1]\n",
    "scope.glitch.repeat = 1 # same as [1, 1]"
   ]
  },
  {
   "cell_type": "markdown",
   "id": "22",
   "metadata": {},
   "source": [
    "Note that glitching past the verification will be a lot harder than glitching the loop since it's a precise glitch far past the trigger. Obviously you want to minimize the `ext_offset` range that you have to search, so you'll have to be smart about what `ext_offset` range you pick. If you're stuck, we've got three hint notebooks you can use to help estimate the range your need for this glitch, with hint 1 being the most challenging and hint 3 being the least. We'll also tell you that you can easily disable and reenable the glitch via `scope.io.glitch_hp = False` and `scope.io.glitch_hp = True`.\n",
    "\n",
    "The first `ext_offset` is fixed, so we'll reuse the `ext_offset` parameter for our second glitch:"
   ]
  },
  {
   "cell_type": "code",
   "execution_count": null,
   "id": "23",
   "metadata": {},
   "outputs": [],
   "source": [
    "gc.set_range(\"ext_offset\", ???, ???)"
   ]
  },
  {
   "cell_type": "code",
   "execution_count": null,
   "id": "24",
   "metadata": {},
   "outputs": [],
   "source": [
    "# ###################\n",
    "# Add your code here to glitch the loop calculation and the verification (Code Block 2)\n",
    "# ###################\n",
    "raise NotImplementedError(\"Add your code here, and delete this.\")"
   ]
  }
 ],
 "metadata": {
  "kernelspec": {
   "display_name": "Python 3 (ipykernel)",
   "language": "python",
   "name": "python3"
  },
  "language_info": {
   "codemirror_mode": {
    "name": "ipython",
    "version": 3
   },
   "file_extension": ".py",
   "mimetype": "text/x-python",
   "name": "python",
   "nbconvert_exporter": "python",
   "pygments_lexer": "ipython3",
   "version": "3.9.5"
  }
 },
 "nbformat": 4,
 "nbformat_minor": 5
}
