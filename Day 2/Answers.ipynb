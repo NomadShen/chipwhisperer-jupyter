{
 "cells": [
  {
   "cell_type": "markdown",
   "id": "0",
   "metadata": {},
   "source": [
    "# Lab 1"
   ]
  },
  {
   "cell_type": "code",
   "execution_count": null,
   "id": "1",
   "metadata": {},
   "outputs": [],
   "source": [
    "# Code Block 1\n",
    "scope.arm()\n",
    "target.simpleserial_write(\"g\", [])\n",
    "scope.capture()\n",
    "\n",
    "val = target.simpleserial_read('r', 4)\n",
    "print(val)"
   ]
  },
  {
   "cell_type": "code",
   "execution_count": null,
   "id": "2",
   "metadata": {},
   "outputs": [],
   "source": [
    "# Code Block 2\n",
    "scope.arm()\n",
    "target.simpleserial_write(\"g\", [])\n",
    "scope.capture()"
   ]
  },
  {
   "cell_type": "code",
   "execution_count": null,
   "id": "3",
   "metadata": {},
   "outputs": [],
   "source": [
    "# Code Block 3\n",
    "gc.set_range(\"width\", 0, scope.glitch.phase_shift_steps // 2) # max range\n",
    "gc.set_range(\"offset\", 0, scope.glitch.phase_shift_steps) # max range"
   ]
  },
  {
   "cell_type": "code",
   "execution_count": null,
   "id": "4",
   "metadata": {},
   "outputs": [],
   "source": [
    "# Code Block 4\n",
    "scope.glitch.width = glitch_setting[0]\n",
    "scope.glitch.offset = glitch_setting[1]\n",
    "scope.glitch.ext_offset = glitch_setting[2]"
   ]
  },
  {
   "cell_type": "code",
   "execution_count": null,
   "id": "5",
   "metadata": {},
   "outputs": [],
   "source": [
    "# Code Block 5\n",
    "# NOTE: lots of ways to do this one, this is just one of the ways\n",
    "gcnt = struct.unpack(\"<I\", val['payload'])[0]\n",
    "\n",
    "if gcnt != 2500:\n",
    "    gc.add(\"success\")\n",
    "else:\n",
    "    gc.add(\"normal\")"
   ]
  },
  {
   "cell_type": "markdown",
   "id": "6",
   "metadata": {},
   "source": [
    "# Lab 2"
   ]
  },
  {
   "cell_type": "code",
   "execution_count": null,
   "id": "7",
   "metadata": {},
   "outputs": [],
   "source": [
    "# Code Block 1\n",
    "pw = bytearray([0x00*5])\n",
    "target.simpleserial_write('p', pw)\n",
    "\n",
    "val = target.simpleserial_read_witherrors('r', 1, glitch_timeout=10)#For loop check\n",
    "valid = val['valid']\n",
    "\n",
    "print(val)"
   ]
  },
  {
   "cell_type": "code",
   "execution_count": null,
   "id": "8",
   "metadata": {},
   "outputs": [],
   "source": [
    "# Code Block 2\n",
    "# Note: These are just example ranges and may not work for your device\n",
    "gc.set_range(\"width\", 1900, 2100)\n",
    "gc.set_range(\"offset\", 2400, 3000)\n",
    "gc.set_range(\"ext_offset\", 0, 150)\n",
    "gc.set_global_step([20])"
   ]
  },
  {
   "cell_type": "code",
   "execution_count": null,
   "id": "9",
   "metadata": {},
   "outputs": [],
   "source": [
    "# Code Block 3\n",
    "val = target.simpleserial_read_witherrors('r', 1, glitch_timeout=10, timeout=50)#For loop check\n",
    "if val['valid'] is False:\n",
    "    gc.add(\"reset\")\n",
    "else:\n",
    "    if val['payload'] == bytearray([1]): #for loop check\n",
    "        successes +=1 \n",
    "        gc.add(\"success\")\n",
    "        print(val)\n",
    "        print(val['payload'])\n",
    "        print(scope.glitch.width, scope.glitch.offset, scope.glitch.ext_offset)\n",
    "        print(\"🐙\", end=\"\")\n",
    "    else:\n",
    "        gc.add(\"normal\")"
   ]
  },
  {
   "cell_type": "markdown",
   "id": "10",
   "metadata": {},
   "source": [
    "# Lab 3"
   ]
  },
  {
   "cell_type": "code",
   "execution_count": null,
   "id": "11",
   "metadata": {},
   "outputs": [],
   "source": [
    "# Code Block 1\n",
    "sig = output['payload']\n",
    "sig_check = signer.verify(hash_object, sig)\n",
    "if sig_check is False: \n",
    "    # detect if the calculation was messed up\n",
    "    # call the faulty signature whatever you want\n",
    "    # but we'll assume it's called sig for the rest of the lab\n",
    "    print(\"Glitched!\")\n",
    "    sig = sig\n",
    "    break"
   ]
  },
  {
   "cell_type": "markdown",
   "id": "12",
   "metadata": {},
   "source": [
    "# Lab 4"
   ]
  },
  {
   "cell_type": "code",
   "execution_count": null,
   "id": "13",
   "metadata": {},
   "outputs": [],
   "source": [
    "# Code Block 1\n",
    "response, responsehex = tx_rx(b\"\\x20\", 4, 4)\n",
    "responsehex"
   ]
  },
  {
   "cell_type": "code",
   "execution_count": null,
   "id": "14",
   "metadata": {},
   "outputs": [],
   "source": [
    "# Code Block 2\n",
    "response = target.read(4)\n",
    "response = [ord(i) for i in response]"
   ]
  },
  {
   "cell_type": "code",
   "execution_count": null,
   "id": "15",
   "metadata": {},
   "outputs": [],
   "source": [
    "#known good response\n",
    "if  response != [32, 250, 165, 97]:"
   ]
  },
  {
   "cell_type": "markdown",
   "id": "16",
   "metadata": {},
   "source": [
    "# Lab 5"
   ]
  },
  {
   "cell_type": "code",
   "execution_count": null,
   "id": "17",
   "metadata": {},
   "outputs": [],
   "source": [
    "# Code Block 1\n",
    "import struct\n",
    "\n",
    "#disable logging\n",
    "cw.set_all_log_levels(cw.logging.CRITICAL)\n",
    "scope.adc.timeout = 0.5 # prevent crashes from taking too long\n",
    "\n",
    "reboot_flush()\n",
    "\n",
    "corrupt_ext_offset = 0\n",
    "\n",
    "# 1. Iterate through the loop\n",
    "for glitch_settings in gc.glitch_values():\n",
    "    scope.glitch.ext_offset = glitch_settings[2]\n",
    "    scope.glitch.offset = glitch_settings[1]\n",
    "    scope.glitch.width = glitch_settings[0]\n",
    "\n",
    "    target.flush() # flush garbage from serial lines\n",
    "    \n",
    "    # Try detecting if the target is crashed\n",
    "    if scope.adc.state:\n",
    "        gc.add(\"reset\")\n",
    "        reboot_flush()\n",
    "\n",
    "    # 3. Arm the scope\n",
    "    scope.arm()\n",
    "\n",
    "    # 4. Send the \"g\" command\n",
    "    target.simpleserial_write(\"g\", bytearray([]))\n",
    "\n",
    "    # Call scope.capture\n",
    "    ret = scope.capture()\n",
    "    \n",
    "    # If trigger didn't fire, target is probably crashed\n",
    "    if ret:\n",
    "        gc.add(\"reset\")\n",
    "        reboot_flush()\n",
    "    else:\n",
    "        # 6. Read back the calculated number\n",
    "        val = target.simpleserial_read_witherrors('r', 4, glitch_timeout=1, timeout=50)\n",
    "        \n",
    "        # If target sent us garabge, it probably crashed\n",
    "        if val['valid'] is False:\n",
    "            gc.add(\"reset\")\n",
    "            reboot_flush()\n",
    "        else:\n",
    "            if val['rv'][0] == 0x10:\n",
    "                print(\"Glitched loop at {}\".format(scope.glitch.ext_offset))\n",
    "                print(\"settings = {}\".format(glitch_settings))\n",
    "                gc.add(\"partial_success\")\n",
    "                corrupt_ext_offset = scope.glitch.ext_offset\n",
    "                print(val['payload'])\n",
    "                break\n",
    "            \n",
    "print(\"Done glitching\")\n",
    "\n",
    "# reenable logging\n",
    "cw.set_all_log_levels(cw.logging.WARNING)"
   ]
  },
  {
   "cell_type": "code",
   "execution_count": null,
   "id": "18",
   "metadata": {},
   "outputs": [],
   "source": [
    "# Code Block 2\n",
    "import struct\n",
    "\n",
    "#disable logging\n",
    "cw.set_all_log_levels(cw.logging.CRITICAL)\n",
    "scope.adc.timeout = 0.5 # prevent crashes from taking too long\n",
    "\n",
    "reboot_flush()\n",
    "\n",
    "# 1. Iterate through the loop\n",
    "for glitch_settings in gc.glitch_values():\n",
    "    scope.glitch.ext_offset = [scope.glitch.ext_offset[0], glitch_settings[2]]\n",
    "    scope.glitch.offset = glitch_settings[1]\n",
    "    scope.glitch.width = glitch_settings[0]\n",
    "\n",
    "    target.flush() # flush garbage from serial lines\n",
    "\n",
    "    # Try detecting if the target is crashed\n",
    "    if scope.adc.state:\n",
    "        gc.add(\"reset\")\n",
    "        reboot_flush()\n",
    "\n",
    "    # 3. Arm the scope\n",
    "    scope.arm()\n",
    "\n",
    "    # 4. Send the \"g\" command\n",
    "    target.simpleserial_write(\"g\", bytearray([]))\n",
    "\n",
    "    # Call scope.capture\n",
    "    ret = scope.capture()\n",
    "    \n",
    "    # If trigger didn't fire, target is probably crashed\n",
    "    if ret:\n",
    "        gc.add(\"reset\")\n",
    "        reboot_flush()\n",
    "    else:\n",
    "        # 6. Read back the calculated number\n",
    "        val = target.simpleserial_read_witherrors('r', 4, glitch_timeout=1, timeout=50)\n",
    "        \n",
    "        # If target sent us garabge, it probably crashed\n",
    "        if val['valid'] is False:\n",
    "            gc.add(\"reset\")\n",
    "            reboot_flush()\n",
    "        else:\n",
    "            gcnt = struct.unpack(\"<I\", val['payload'])[0]\n",
    "            if gcnt == 0:\n",
    "                gc.add(\"partial_success\")\n",
    "            elif gcnt == 2500:\n",
    "                #print(\"No effect\")\n",
    "                gc.add(\"normal\")\n",
    "            else:\n",
    "                print(\"Successful glitch! gcnt = {}\".format(gcnt))\n",
    "                print(\"settings = {}\".format(glitch_settings))\n",
    "                gc.add(\"success\")\n",
    "                break\n",
    "            \n",
    "print(\"Done glitching\")\n",
    "\n",
    "# reenable logging\n",
    "cw.set_all_log_levels(cw.logging.WARNING)"
   ]
  }
 ],
 "metadata": {
  "kernelspec": {
   "display_name": "Python 3 (ipykernel)",
   "language": "python",
   "name": "python3"
  },
  "language_info": {
   "codemirror_mode": {
    "name": "ipython",
    "version": 3
   },
   "file_extension": ".py",
   "mimetype": "text/x-python",
   "name": "python",
   "nbconvert_exporter": "python",
   "pygments_lexer": "ipython3",
   "version": "3.9.5"
  }
 },
 "nbformat": 4,
 "nbformat_minor": 5
}
