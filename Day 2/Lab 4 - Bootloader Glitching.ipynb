{
 "cells": [
  {
   "cell_type": "markdown",
   "id": "0",
   "metadata": {},
   "source": [
    "# TMP91FW27UG Bootloader Attack\n",
    "\n",
    "\n"
   ]
  },
  {
   "cell_type": "markdown",
   "id": "1",
   "metadata": {},
   "source": [
    "## Talking to Bootloader\n",
    "\n",
    "You should have done the bootloader setup in Day 1. We'll be using the same setup, but with two differences:\n",
    "\n",
    "1) We'll be doing a glitch attack.\n",
    "\n",
    "2) We'll be targetting a different function."
   ]
  },
  {
   "cell_type": "markdown",
   "id": "2",
   "metadata": {},
   "source": [
    "## Finding Glitch Settings"
   ]
  },
  {
   "cell_type": "markdown",
   "id": "3",
   "metadata": {},
   "source": [
    "As in earlier labs, we'll need to find suitable settings. This can be done with voltage or clock glitching, but this lab uses clock glitching. The following is roughly what is required of you:\n",
    "\n",
    "1. Find a suitable glitch function.\n",
    "2. Play with settings for the glitch.\n",
    "\n",
    "Let's get to it!\n",
    "\n",
    "### Clock Glitching\n",
    "\n",
    "Unlike previous labs, we'll be using clock glitching for this one, as it seems to work pretty well on this target. This doesn't change too much, as you'll still need to find a set of widths/offsets that work for your device. The setup will be a bit different (mostly using and different output setting and putting the glitch on the clock pin instead of the glitch transistors). One thing that will be different is that you won't have to stop part way to reduce the width range. You'll also probably see fewer resets than with voltage glitching.\n",
    "\n",
    "### Finding a Suitable Function\n",
    "\n",
    "In previous labs, we used a loop to calibrate our glitch. This obviously won't be available on this target. Instead, to calibrate our glitch, we'd like to use one of the bootloader operations. Ideally, this operation will allow us to identify if the device did one of the following things:\n",
    "\n",
    "1. Reset\n",
    "2. Worked Normally (no effect)\n",
    "3. Was impacted but a glitch (success!)\n",
    "\n",
    "In addition, we don't want this operation to be very timing-dependant (i.e. you don't want to have to scan `ext_offset` very precisely).\n",
    "\n",
    "Take a look at the various functions in the bootloader and decide on what to attack. You'll need the op-code for the function.\n",
    "\n",
    "### Setting up Normal Operation\n",
    "\n",
    "Setup some code to operate the function normally. We'll use this as a bit of an oracle for understanding the normal output."
   ]
  },
  {
   "cell_type": "code",
   "execution_count": null,
   "id": "4",
   "metadata": {},
   "outputs": [],
   "source": [
    "PLATFORM = \"\"\n",
    "%run ../Setup_Scripts/Setup_Generic.ipynb\n",
    "\n",
    "scope.clock.clkgen_freq = 25E6 #25 MHz on examples\n",
    "target.baud = 9600 #9600 baud rate\n",
    "scope.io.tio1 = \"serial_tx\"\n",
    "scope.io.tio2 = \"serial_rx\""
   ]
  },
  {
   "cell_type": "code",
   "execution_count": null,
   "id": "5",
   "metadata": {},
   "outputs": [],
   "source": [
    "def reset_target():\n",
    "    scope.io.pdic = False\n",
    "    scope.io.nrst = False\n",
    "    time.sleep(0.05)\n",
    "    scope.io.nrst = True\n",
    "    time.sleep(0.05)\n",
    "    target.flush()    "
   ]
  },
  {
   "cell_type": "code",
   "execution_count": null,
   "id": "6",
   "metadata": {},
   "outputs": [],
   "source": [
    "def calc_checksum(r):\n",
    "    s = 0\n",
    "    for c in r:\n",
    "        s += c\n",
    "    cs = 0x100 - (s & 0xff)\n",
    "    return cs\n",
    "\n",
    "def tx_rx(cmd, expectedlen=0, rxlen=100):\n",
    "    target.write(cmd)\n",
    "    response = target.read(rxlen)\n",
    "    if expectedlen:\n",
    "        if len(response) != expectedlen:\n",
    "            raise IOError(\"Unexpected response length %d (data: %s)\"%(len(response), str(response)))\n",
    "\n",
    "    responsehex = [ord(c) for c in response]\n",
    "    return response, responsehex"
   ]
  },
  {
   "cell_type": "markdown",
   "id": "7",
   "metadata": {},
   "source": [
    "You can use the following code which syncronizes to the device as an example:"
   ]
  },
  {
   "cell_type": "code",
   "execution_count": null,
   "id": "8",
   "metadata": {},
   "outputs": [],
   "source": [
    "reset_target()\n",
    "response, responsehex = tx_rx(b\"\\x86\", 1, 1)\n",
    "if responsehex[0] != 0x86:\n",
    "    raise IOError(\"Sync Error\")\n",
    "    \n",
    "# ###################\n",
    "# Add your code here to do the bootloader operation you've selected (Code Block 1)\n",
    "# ###################\n",
    "raise NotImplementedError(\"Add your code here, and delete this.\")"
   ]
  },
  {
   "cell_type": "markdown",
   "id": "9",
   "metadata": {},
   "source": [
    "## Glitching "
   ]
  },
  {
   "cell_type": "code",
   "execution_count": null,
   "id": "10",
   "metadata": {},
   "outputs": [],
   "source": [
    "gc = cw.GlitchController(groups=[\"success\", \"reset\", \"normal\"], parameters=[\"width\", \"offset\"])\n",
    "gc.display_stats()\n",
    "gc.glitch_plot(plotdots={\"success\":\"+g\", \"reset\":\"xr\", \"normal\":None})"
   ]
  },
  {
   "cell_type": "code",
   "execution_count": null,
   "id": "11",
   "metadata": {},
   "outputs": [],
   "source": [
    "gc.set_range(\"width\", -5, 5)\n",
    "gc.set_range(\"offset\", -5, 5)\n",
    "gc.set_global_step([5.0, 2.5])"
   ]
  },
  {
   "cell_type": "markdown",
   "id": "12",
   "metadata": {},
   "source": [
    "Next we'll setup the glitch module. You could use `scope.cglitch_setup()`, but we've got the full setup here as you may not have seen clock glitching on ChipWhisperer before."
   ]
  },
  {
   "cell_type": "code",
   "execution_count": null,
   "id": "13",
   "metadata": {},
   "outputs": [],
   "source": [
    "#Basic setup\n",
    "if scope._is_husky:\n",
    "    scope.glitch.enabled = True\n",
    "\n",
    "scope.glitch.clk_src = \"pll\" # set glitch input clock\n",
    "scope.glitch.output = \"clock_xor\" # glitch_out = clk ^ glitch\n",
    "scope.glitch.trigger_src = \"ext_single\" # glitch only after scope.arm() called\n",
    "\n",
    "scope.io.hs2 = \"glitch\"  # output glitch_out on the clock line\n",
    "scope.trigger.triggers = \"tio2\"\n",
    "print(scope.glitch)"
   ]
  },
  {
   "cell_type": "markdown",
   "id": "14",
   "metadata": {},
   "source": [
    "Fill in your communication code below. Feel free to stop this loop early if you've got a good set of settings to work with."
   ]
  },
  {
   "cell_type": "code",
   "execution_count": null,
   "id": "15",
   "metadata": {},
   "outputs": [],
   "source": [
    "from tqdm.notebook import trange\n",
    "import struct\n",
    "\n",
    "scope.glitch.ext_offset = 100000\n",
    "\n",
    "# width and offset numbers have a very different meaning for Husky vs Lite/Pro;\n",
    "# see help(scope.glitch) for details\n",
    "if scope._is_husky:  \n",
    "    gc.set_range(\"width\", 0, 400)\n",
    "    gc.set_range(\"offset\", 400, 1400)\n",
    "\n",
    "    gc.set_global_step([5])\n",
    "    scope.adc.lo_gain_errors_disabled = True\n",
    "    scope.adc.clip_errors_disabled = True\n",
    "else:\n",
    "    gc.set_range(\"width\", 0, 48)\n",
    "    gc.set_range(\"offset\", -48, 48)\n",
    "    gc.set_global_step([8, 4, 2, 1, 0.4])\n",
    "    \n",
    "scope.glitch.repeat = 5\n",
    "\n",
    "scope.adc.timeout = 0.1\n",
    "\n",
    "broken = False\n",
    "for glitch_setting in gc.glitch_values():\n",
    "    reset_target()\n",
    "    scope.glitch.offset = glitch_setting[1]\n",
    "    scope.glitch.width = glitch_setting[0]\n",
    "    \n",
    "    reset_target()\n",
    "    target.flush()\n",
    "    response, responsehex = tx_rx(b\"\\x86\", 1, 1)\n",
    "    if responsehex[0] != 0x86:\n",
    "        raise IOError(\"Sync Error\")\n",
    "    \n",
    "    scope.arm()\n",
    "\n",
    "    #Do glitch loop\n",
    "    raise NotImplementedError(\"Change the following to be the selected op-code\")\n",
    "    target.write(b\"\\x??\")\n",
    "\n",
    "    ret = scope.capture()\n",
    "    \n",
    "    loff = scope.glitch.offset\n",
    "    lwid = scope.glitch.width\n",
    "\n",
    "    if ret:\n",
    "        print('Timeout - no trigger')\n",
    "        gc.add(\"reset\")\n",
    "\n",
    "        #Device is slow to boot?\n",
    "        reset_target()\n",
    "    else:\n",
    "        # ###################\n",
    "        # Add your code here to do the bootloader operation you've selected (Code Block 1)\n",
    "        # ###################\n",
    "        raise NotImplementedError(\"Add your code here, and delete this.\")\n",
    "        \n",
    "        \n",
    "        if len(response) == 0:\n",
    "            gc.add(\"reset\")\n",
    "        else:\n",
    "            raise NotImplementedError(\"Change the following to be the known-good response\")\n",
    "            if  response != [32, 250, 165, 97]:\n",
    "                broken = True\n",
    "                gc.add(\"success\")\n",
    "                print(response)\n",
    "                print(loff)\n",
    "                print(lwid)\n",
    "                print(\"🐙\", end=\"\")\n",
    "            else:\n",
    "                gc.add(\"normal\")\n",
    "\n",
    "print(\"Done glitching\")"
   ]
  },
  {
   "cell_type": "markdown",
   "id": "16",
   "metadata": {},
   "source": [
    "## RAM Attack\n",
    "\n",
    "The final stage is to actually try to send the known password (discovered with the SPA attack), followed by the glitch. We'll leave this one more open-ended. Start with the above loop and modify from there to work with your known-good settings."
   ]
  },
  {
   "cell_type": "code",
   "execution_count": null,
   "id": "17",
   "metadata": {},
   "outputs": [],
   "source": []
  }
 ],
 "metadata": {
  "kernelspec": {
   "display_name": "Python 3 (ipykernel)",
   "language": "python",
   "name": "python3"
  },
  "language_info": {
   "codemirror_mode": {
    "name": "ipython",
    "version": 3
   },
   "file_extension": ".py",
   "mimetype": "text/x-python",
   "name": "python",
   "nbconvert_exporter": "python",
   "pygments_lexer": "ipython3",
   "version": "3.9.5"
  }
 },
 "nbformat": 4,
 "nbformat_minor": 5
}
