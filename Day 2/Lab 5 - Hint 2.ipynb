{
 "cells": [
  {
   "cell_type": "markdown",
   "id": "0",
   "metadata": {},
   "source": [
    "# Lab 5 - Hint 2 (Second Toughest)\n",
    "\n",
    "Turn the glitch off and capture a power trace and estimate where the loop calculation ends. Keep in mind that, by default, the ADC clock (`scope.clock.adc_mul`) is 4x the target clock, so an `ext_offset` of `1000` corresponds to `4000` on the power trace plot. Also remember that this second glitch is offset from the first glitch, not the trigger, so you need to account for that as well."
   ]
  }
 ],
 "metadata": {
  "kernelspec": {
   "display_name": "Python 3 (ipykernel)",
   "language": "python",
   "name": "python3"
  },
  "language_info": {
   "codemirror_mode": {
    "name": "ipython",
    "version": 3
   },
   "file_extension": ".py",
   "mimetype": "text/x-python",
   "name": "python",
   "nbconvert_exporter": "python",
   "pygments_lexer": "ipython3",
   "version": "3.9.5"
  }
 },
 "nbformat": 4,
 "nbformat_minor": 5
}
