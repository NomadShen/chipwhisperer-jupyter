{
 "cells": [
  {
   "cell_type": "markdown",
   "id": "0",
   "metadata": {},
   "source": [
    "# TMP91FW27UG Bootloader SPA\n",
    "\n",
    "In this lab, we'll be looking at the [TMP91FW27UG](https://toshiba.semicon-storage.com/us/semiconductor/product/microcontrollers/detail.TMP91FW27UG.html) device. You can find a link to the [datasheet PDF here](https://toshiba.semicon-storage.com/info/docget.jsp?did=10173&prodName=TMP91FW27UG), or there is a local copy on the USB stick.\n",
    "\n",
    "Our objective is to bypass the security mechanism of this device, so take a look at the datasheet and try to understand what type of code protection the device has. When researching this, it can help to search for keywords like \"security\", \"fuse\", \"password\", \"readback\", \"code security\", \"read out\", or \"bootloader\". Different manufactures use different technologies or words.\n",
    "\n",
    "Try to understand the following before continuing:\n",
    "\n",
    "1. What built-in bootloader or programming method is included in the device?\n",
    "2. Can you access the ROM for the bootloader? How much detail is there in the datasheet? Is there anything they might be lying about?\n",
    "3. What access control level is part of the protection mechanism?\n",
    "4. What pin(s) do we need to control for the bootloader?"
   ]
  },
  {
   "cell_type": "markdown",
   "id": "1",
   "metadata": {},
   "source": [
    "## Talking to the Bootloader\n",
    "\n",
    "In order to talk to the bootloader, we included a TMP91FW27UG target board. This board includes the TMP91FW27UG microcontroller. You can see the schematic and design for this board [here](https://github.com/newaetech/chipwhisperer-target-cw308t/tree/main/CW312T_TMP91FW) if you wish.\n",
    "\n",
    "The important points about the pinout are:\n",
    "\n",
    "1. The clock is driven from the ChipWhisperer, using the normal \"clkgen\" output.\n",
    "2. The serial is connected as `tio1 = \"serial_tx\"`, `tio2 = \"serial_rx\"`\n",
    "3. The BOOT pin is `pdic`, set it low (`False` or `0`) for bootloader, high (`True` or `1`) for normal boot\n",
    "\n",
    "The following small snippets may be helpful: one shows how to calculate the checksum required, the other sends a command and returns the response. The response is returned in two formats (sometimes you'll want one or the other).\n",
    "\n",
    "You may need to modify these commands further in your own code."
   ]
  },
  {
   "cell_type": "code",
   "execution_count": null,
   "id": "2",
   "metadata": {},
   "outputs": [],
   "source": [
    "def calc_checksum(r):\n",
    "    s = 0\n",
    "    for c in r:\n",
    "        s += c\n",
    "    cs = 0x100 - (s & 0xff)\n",
    "    return cs\n",
    "\n",
    "def tx_rx(cmd, expectedlen=0, rxlen=100):\n",
    "    target.write(cmd)\n",
    "    response = target.read(rxlen)\n",
    "    if expectedlen:\n",
    "        if len(response) != expectedlen:\n",
    "            raise IOError(\"Unexpected response length %d (data: %s)\"%(len(response), str(response)))\n",
    "\n",
    "    responsehex = [hex(ord(c)) for c in response]\n",
    "    return response, responsehex"
   ]
  },
  {
   "cell_type": "markdown",
   "id": "3",
   "metadata": {},
   "source": [
    "## Selecting a Command\n",
    "\n",
    "There are several bootloader commands to choose from, as shown in the table here:\n",
    "\n",
    "| Name                     | Command | Needs Password? | Protection Bit Blocked? |\n",
    "|--------------------------|---------|-----------------|-------------------------|\n",
    "| RAM Transfer             | 0x10    | ?               | ?                       |\n",
    "| Flash memory SUM         | 0x20    | No              | ?                       |\n",
    "| Product Information Read | 0x30    | ?               | ?                       |\n",
    "| Chip Erase               | 0x40    | No              | No                      |\n",
    "| Protection Bit Set       | 0x60    | ?               | ?                       |\n",
    "\n",
    "Try to fill in the rest of the \"Needs Password\" and \"Protection Bit Blocked\" columns. It will help you understand the most useful command for doing an SPA attack.\n",
    "\n",
    "**HINT: You want a command which requires the password but isn't blocked by the protection bit. There is one suitable command only in the particular bootloader. If we didn't have such a command, we'd need to perform a fault injection attack to bypass the protection bit.**"
   ]
  },
  {
   "cell_type": "markdown",
   "id": "4",
   "metadata": {},
   "source": [
    "Once you have a command, you can see the general flow of the command structure from the datasheet. You'll need some code to do the following:\n",
    "\n",
    "1. Set the BOOT flag as required.\n",
    "2. Reset the device.\n",
    "3. Send the required command, check the response.\n",
    "\n",
    "To write to the device, you'll need to send hex data like e.g.:\n",
    "\n",
    "```python\n",
    "target.write([0x86])\n",
    "```\n",
    "\n",
    "When you read data, you can specify how many bytes to read. Remember there might be garbage in the serial line, so you might need to clear the output by trying to read too much data first:\n",
    "\n",
    "```python\n",
    "target.read(1000)\n",
    "```\n",
    "\n",
    "Or use the flush command:\n",
    "\n",
    "```python\n",
    "target.flush()\n",
    "```\n",
    "\n",
    "So a typical code-flow should look like:\n",
    "\n",
    "```python\n",
    "import time\n",
    "scope.io.pdic = ?\n",
    "scope.io.nrst = False\n",
    "time.sleep(0.1)\n",
    "scope.io.nrst = True\n",
    "time.sleep(0.1)\n",
    "target.flush() # This flushes old data out\n",
    "target.write([0x86])\n",
    "data = target.read(1)\n",
    "print(data)\n",
    "```\n",
    "\n",
    "You might notice the `data` is just a string. You can convert it to a list with different commands. Try converting to `bytes` or `bytearray`. You can force this to just print as a list with:\n",
    "\n",
    "```python\n",
    "[ord(c) for c in data]\n",
    "```\n",
    "\n",
    "The `ord(c)` function converts an ascii char into an integer. You can also convert this to  hex by wrapping in the `hex()` or a formatting call, such as:\n",
    "\n",
    "```python\n",
    "['%02x'%ord(c) for c in data]\n",
    "```\n",
    "\n",
    "See the following examples of the conversion of a single character:"
   ]
  },
  {
   "cell_type": "code",
   "execution_count": null,
   "id": "5",
   "metadata": {},
   "outputs": [],
   "source": [
    "ord('a')"
   ]
  },
  {
   "cell_type": "code",
   "execution_count": null,
   "id": "6",
   "metadata": {},
   "outputs": [],
   "source": [
    "'%02x'%ord('a')"
   ]
  },
  {
   "cell_type": "markdown",
   "id": "7",
   "metadata": {},
   "source": [
    "Try adding your code here to talk to the device. We've given you the required setup code to start with:"
   ]
  },
  {
   "cell_type": "code",
   "execution_count": null,
   "id": "8",
   "metadata": {},
   "outputs": [],
   "source": [
    "PLATFORM = \"\"\n",
    "%run ../Setup_Scripts/Setup_Generic.ipynb\n",
    "\n",
    "scope.clock.clkgen_freq = 25E6 #25 MHz on examples\n",
    "target.baud = 9600 #9600 baud rate\n",
    "scope.io.tio1 = \"serial_tx\"\n",
    "scope.io.tio2 = \"serial_rx\""
   ]
  },
  {
   "cell_type": "markdown",
   "id": "9",
   "metadata": {},
   "source": [
    "## Triggering & Plotting SPA Attempt\n",
    "\n",
    "Next, we need to do an SPA attempt. To do this, we're going to trigger on `tio1`, which is the serial line. This will work because we simply trigger on the serial data we are sending to the device, which is the first byte of the password.\n",
    "\n",
    "We can look at more complex triggering methods later on."
   ]
  },
  {
   "cell_type": "code",
   "execution_count": null,
   "id": "10",
   "metadata": {},
   "outputs": [],
   "source": [
    "scope.trigger.triggers = \"tio1\"\n",
    "scope.clock.adc_mul = 1\n",
    "scope.adc.offset = 0\n",
    "scope.adc.samples = 100000\n",
    "scope.adc.presamples = 0"
   ]
  },
  {
   "cell_type": "code",
   "execution_count": null,
   "id": "11",
   "metadata": {},
   "outputs": [],
   "source": [
    "#raise NotImplementedError (\"Add your Code here instead, delete this\")\n",
    "scope.io.pdic = 0\n",
    "scope.io.nrst = False\n",
    "time.sleep(0.1)\n",
    "scope.io.nrst = True\n",
    "time.sleep(0.1)\n",
    "# You need to add the code here to set PDIC to the right value & reset it from above."
   ]
  },
  {
   "cell_type": "code",
   "execution_count": null,
   "id": "12",
   "metadata": {},
   "outputs": [],
   "source": [
    "scope.arm()\n",
    "target.write([0x86])\n",
    "scope.capture()\n",
    "trace = scope.get_last_trace()\n",
    "cw.plot(trace)"
   ]
  },
  {
   "cell_type": "markdown",
   "id": "13",
   "metadata": {},
   "source": [
    "What you've done above is just trigger on the initial sync packet (assuming you left the code as-is). In which case you'll get something like this:\n",
    "\n",
    "![](img/tmp91boot.png)\n",
    "\n",
    "What you need to do now is use that to trigger on the **password** being sent. To start with, make a `reset_target()` function to simplify the loop which resets the device each time:"
   ]
  },
  {
   "cell_type": "code",
   "execution_count": null,
   "id": "14",
   "metadata": {},
   "outputs": [],
   "source": [
    "def reset_target():\n",
    "    scope.io.nrst = False\n",
    "    time.sleep(0.05)\n",
    "    scope.io.nrst = True\n",
    "    time.sleep(0.05)"
   ]
  },
  {
   "cell_type": "markdown",
   "id": "15",
   "metadata": {},
   "source": [
    "Then try making a small loop to test some different first characters of the password. Here's an example starting point for the loop.\n",
    "\n",
    "Modify it to correctly setup the function you identified above, and then plot the actual password comparison. At this point things won't syncronize well, so we'll work on that afterwards.\n",
    "\n",
    "**HINT: You don't actually need to send the full command - sending only up to the first byte of the password will work**"
   ]
  },
  {
   "cell_type": "markdown",
   "id": "16",
   "metadata": {},
   "source": [
    "These methods should be helpful for this part:"
   ]
  },
  {
   "cell_type": "code",
   "execution_count": null,
   "id": "17",
   "metadata": {},
   "outputs": [],
   "source": [
    "tx_rx??"
   ]
  },
  {
   "cell_type": "code",
   "execution_count": null,
   "id": "18",
   "metadata": {},
   "outputs": [],
   "source": [
    "calc_checksum??"
   ]
  },
  {
   "cell_type": "code",
   "execution_count": null,
   "id": "19",
   "metadata": {},
   "outputs": [],
   "source": [
    "import numpy as np\n",
    "from tqdm.notebook import trange, tqdm\n",
    "\n",
    "plot = cw.plot()\n",
    "scope.trigger.module = 'basic'\n",
    "\n",
    "for i in range(20, 23):\n",
    "    reset_target()\n",
    "    target.flush()\n",
    "    \n",
    "    raise NotImplementedError(\"Requires your code here!\")\n",
    "    \n",
    "    #scope.UARTTrigger.set_pattern_match(0, chr(i))\n",
    "    scope.arm()\n",
    "    target.write(chr(i))\n",
    "    scope.capture()\n",
    "    \n",
    "    trace = scope.get_last_trace()\n",
    "      \n",
    "    plot *= cw.plot(trace).opts(alpha=0.25)\n",
    "display(plot)"
   ]
  },
  {
   "cell_type": "markdown",
   "id": "20",
   "metadata": {},
   "source": [
    "Things will look unsyncronized, which is a problem. For example, when running it my test looked like this:\n",
    "\n",
    "![](img/tmp91unsync.png)"
   ]
  },
  {
   "cell_type": "markdown",
   "id": "21",
   "metadata": {},
   "source": [
    "## Resync with Software\n",
    "\n",
    "One of the problems above is you need to resyncronize the power traces. We'll do this with a simple software routine here. Doing this will require us to:\n",
    "\n",
    "1. Manually decide on what looks like an interesting point. Luckily that is easy in this example.\n",
    "2. Pass the interesting points to the following function, along with traces we want to resyncronize.\n",
    "3. Plot the resyncronized traces.\n"
   ]
  },
  {
   "cell_type": "code",
   "execution_count": null,
   "id": "22",
   "metadata": {},
   "outputs": [],
   "source": [
    "def resync_sad(trace, ref, ref_range, pad=True, copy=True):\n",
    "    _, offset = sad(trace, ref, ref_range)\n",
    "    \n",
    "    if copy:\n",
    "        inlen = len(trace)\n",
    "        output = np.zeros(inlen)\n",
    "        if offset < 0:\n",
    "            output[-offset:] = trace[:(inlen + offset)]\n",
    "        else:\n",
    "            output[:(inlen - offset)] = trace[offset:]\n",
    "    else:\n",
    "        raise NotImplementedError(\"Insert your code\")\n",
    "    \n",
    "    return output    \n",
    "\n",
    "def sad(full_trace, pattern, pattern_range=None, valid_only=True):\n",
    "    \n",
    "    tlen = len(full_trace)\n",
    "    \n",
    "    psum = np.zeros(tlen)\n",
    "    temp = np.zeros(tlen)\n",
    "    \n",
    "    if pattern_range:\n",
    "        plen = pattern_range[1] - pattern_range[0]\n",
    "        pstart = pattern_range[0]\n",
    "    else:\n",
    "        plen = len(pattern)\n",
    "        pstart = 0\n",
    "        \n",
    "\n",
    "    for j in range(plen-1, -1, -1):\n",
    "        #NB - due to way we index through array, don't need to reset this back to zero\n",
    "        #temp = np.zeros(100000)\n",
    "        np.subtract(full_trace[j:], pattern[pstart+j], out=temp[0:(100000-j)])\n",
    "        psum += abs(temp)\n",
    "\n",
    "    if valid_only:\n",
    "        psum = psum[0:-plen]\n",
    "    \n",
    "    offset = np.argmin(psum)    \n",
    "    offset = np.argmin(psum) - pattern_range[0] + (pattern_range[1] - pattern_range[0])\n",
    "    \n",
    "    return psum, offset"
   ]
  },
  {
   "cell_type": "code",
   "execution_count": null,
   "id": "23",
   "metadata": {},
   "outputs": [],
   "source": [
    "cw.plot(trace)"
   ]
  },
  {
   "cell_type": "code",
   "execution_count": null,
   "id": "24",
   "metadata": {},
   "outputs": [],
   "source": [
    "window = 300\n",
    "start = 19300 #ADJUST THIS\n",
    "end = start+window #ADJUST THIS\n",
    "trace1 = trace\n",
    "cw.plot(trace1[start:end])"
   ]
  },
  {
   "cell_type": "markdown",
   "id": "25",
   "metadata": {},
   "source": [
    "Adjust the above start & end parameters until you get a nice-looking `trace1`. For example, something like this should be in your view:\n",
    "\n",
    "![](img/tmp91resync1.png)\n",
    "\n",
    "Finally, run code like the following and see if it resyncronized all the traces:"
   ]
  },
  {
   "cell_type": "code",
   "execution_count": null,
   "id": "26",
   "metadata": {},
   "outputs": [],
   "source": [
    "import numpy as np\n",
    "from tqdm.notebook import trange, tqdm\n",
    "\n",
    "go = True\n",
    "\n",
    "i = 0\n",
    "\n",
    "diffs = []\n",
    "traces = []\n",
    "\n",
    "plot = cw.plot()\n",
    "\n",
    "for i in range(20, 24):\n",
    "    reset_target()\n",
    "    target.flush()\n",
    "    \n",
    "    raise NotImplementedError(\"Requires your code here!\")\n",
    "    \n",
    "    scope.arm()\n",
    "    target.write(chr(i))\n",
    "    scope.capture()\n",
    "    \n",
    "    trace = scope.get_last_trace()\n",
    "    #NOTE - you'll need to adjust the -300 number currently to target the center of the actual work\n",
    "\n",
    "    trace = resync_sad(trace, trace1, (start,end))\n",
    "    \n",
    "    trace_excerpt = trace[start-window:end-window]\n",
    "    \n",
    "    diff_trace = trace_excerpt - trace1[start:end]\n",
    "    traces.append(trace_excerpt)\n",
    "    \n",
    "    diff = np.sum(abs(diff_trace)[80:180])\n",
    "    diffs.append(diff)\n",
    "    print(\"%x %f\"%(i, diff))\n",
    "    \n",
    "    plot *= cw.plot(trace_excerpt).opts(alpha=0.25)\n",
    "display(plot)"
   ]
  },
  {
   "cell_type": "markdown",
   "id": "27",
   "metadata": {},
   "source": [
    "## SPA Attempt with Software\n",
    "\n",
    "With the syncronization working, you now need to script the full attack. You'll notice in the previous example it started to print the deltas between `trace1` and the guess - this might be a good starting point for the full attack!\n",
    "\n",
    "Unlike previous labs, this one is more open ended. It'll be up to you to do most of this on your own. If you do get stuck, you can steal some of the code from the following notebook: https://github.com/colinoflynn/samsung-ovens-deconstructed/blob/master/notebooks/Oven%20TMP91%20Hacky%20Test.ipynb"
   ]
  },
  {
   "cell_type": "markdown",
   "id": "28",
   "metadata": {},
   "source": [
    "## Other Triggers\n",
    "\n",
    "### SAD Trigger\n",
    "\n",
    "ChipWhisperer actually has a SAD trigger module built in! It has a sample length limit since an analog compare like this is pretty expenseive to implement in hardware, but you may want to give it a shot. You can find the docs here: https://chipwhisperer.readthedocs.io/en/latest/scope-api.html#pro-husky-only-featuers\n",
    "\n",
    "**HINT: `scope.adc.presamples` (https://chipwhisperer.readthedocs.io/en/latest/scope-api.html#chipwhisperer.capture.scopes._OpenADCInterface.TriggerSettings.presamples) will also be useful here**\n",
    "\n",
    "### UART Trigger\n",
    "\n",
    "The Husky also includes a module that allows us to trigger on UART Data. If you've got extra time, you may want to try this trigger module out to see how it affects trace synchronization. Check out the documentation for this module at https://chipwhisperer.readthedocs.io/en/latest/scope-api.html#scope-uarttrigger\n",
    "\n",
    "**HINT: `scope.adc.presamples` (https://chipwhisperer.readthedocs.io/en/latest/scope-api.html#chipwhisperer.capture.scopes._OpenADCInterface.TriggerSettings.presamples) will also be useful here**\n",
    "\n",
    "If you don't have an internet connection, these docs are also available in `chipwhisperer/jupyter/online_docs/html` (open up `index.html` to get to the main page)"
   ]
  }
 ],
 "metadata": {
  "kernelspec": {
   "display_name": "Python 3 (ipykernel)",
   "language": "python",
   "name": "python3"
  },
  "language_info": {
   "codemirror_mode": {
    "name": "ipython",
    "version": 3
   },
   "file_extension": ".py",
   "mimetype": "text/x-python",
   "name": "python",
   "nbconvert_exporter": "python",
   "pygments_lexer": "ipython3",
   "version": "3.9.5"
  }
 },
 "nbformat": 4,
 "nbformat_minor": 5
}
