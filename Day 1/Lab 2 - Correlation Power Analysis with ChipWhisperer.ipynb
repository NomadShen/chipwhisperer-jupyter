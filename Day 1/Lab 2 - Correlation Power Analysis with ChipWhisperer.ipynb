{
 "cells": [
  {
   "cell_type": "markdown",
   "metadata": {},
   "source": [
    "# Lab 2 - Correlation Power Analysis with ChipWhisperer"
   ]
  },
  {
   "cell_type": "markdown",
   "metadata": {},
   "source": [
    "**SUMMARY:** *Last time, we saw how power anlaysis can be used to break a password check. In this lab, we'll use ChipWhisperer Analyzer to do a Correlation Power Analysis attack to recover an AES key.*\n",
    "\n",
    "**LEARNING OUTCOMES:**\n",
    "\n",
    "* Use ChipWhisperer Analyzer to perform a CPA attack\n",
    "* Plot additional information about the attack"
   ]
  },
  {
   "cell_type": "markdown",
   "metadata": {},
   "source": [
    "## Projects\n",
    "\n",
    "We'll proceed fairly quickly through this lab - our goal here is just to showcase the power of a CPA attack. We'll go into more detail about the attack in a later lab.\n",
    "\n",
    "This time, we'll be using the `simpleserial-aes` firmware, located at `chipwhisperer/hardware/victims/firmware/simpleserial-aes`. `simpleserial` is a protocol that we use to transfer data to and from most of NewAE's target firmware. Documentation can be found at https://chipwhisperer.readthedocs.io/en/latest/simpleserial.html. There's no need to worry about most of that documentation - ChipWhisperer will take care of the details for you.\n",
    "\n",
    "This time, the firmware mostly does two things - first, it allows us to set a key for the AES implementation. Our goal is to recover this key. It also lets us send plaintext to the target, which the target will then encrypt and send back to us. Note that while we know the key, we don't use it in our attack at all - we mostly just use it to see how well the attack is working in real time.\n",
    "\n",
    "As with before, this tutorial can be completed with both hardware and previously recorded traces."
   ]
  },
  {
   "cell_type": "markdown",
   "metadata": {},
   "source": [
    "## \\#HARDWARE\n",
    "\n",
    "Most of the hardware setup is the same as before, so we'll move quickly through this:"
   ]
  },
  {
   "cell_type": "code",
   "execution_count": null,
   "metadata": {},
   "outputs": [],
   "source": [
    "# Set hardware settings\n",
    "SCOPETYPE = 'OPENADC'\n",
    "PLATFORM = 'CW308_SAM4S'\n",
    "CRYPTO_TARGET='TINYAES128C' \n",
    "SS_VER='SS_VER_2_1'"
   ]
  },
  {
   "cell_type": "code",
   "execution_count": null,
   "metadata": {},
   "outputs": [],
   "source": [
    "# Connect to ChipWhisperer\n",
    "%run \"../Setup_Scripts/Setup_Generic.ipynb\""
   ]
  },
  {
   "cell_type": "code",
   "execution_count": null,
   "metadata": {},
   "outputs": [],
   "source": [
    "%%bash -s \"$PLATFORM\" \"$CRYPTO_TARGET\" \"$SS_VER\"\n",
    "# compile firmware\n",
    "cd ../../hardware/victims/firmware/simpleserial-aes\n",
    "make PLATFORM=$1 CRYPTO_TARGET=$2 SS_VER=$3 -j"
   ]
  },
  {
   "cell_type": "code",
   "execution_count": null,
   "metadata": {},
   "outputs": [],
   "source": [
    "# program firmware onto target\n",
    "cw.program_target(scope, prog, \"../../hardware/victims/firmware/simpleserial-aes/simpleserial-aes-{}.hex\".format(PLATFORM))"
   ]
  },
  {
   "cell_type": "markdown",
   "metadata": {},
   "source": [
    "The first major difference here is that we'll be storing our info in a ChipWhisperer Project instead of a NumPy array. Projects are a convenient way to interface power traces with ChipWhisperer Analyzer"
   ]
  },
  {
   "cell_type": "code",
   "execution_count": null,
   "metadata": {},
   "outputs": [],
   "source": [
    "proj = cw.create_project(\"Lab 4_3\", overwrite=True)"
   ]
  },
  {
   "cell_type": "markdown",
   "metadata": {},
   "source": [
    "Jupyter allows us to plot asynchronously, meaning we can plot traces as we capture them. ChipWhisperer includes an convenince class to make this easy to setup and do:"
   ]
  },
  {
   "cell_type": "code",
   "execution_count": null,
   "metadata": {},
   "outputs": [],
   "source": [
    "splot = cw.StreamPlot()\n",
    "splot.plot()"
   ]
  },
  {
   "cell_type": "markdown",
   "metadata": {},
   "source": [
    "Unlike last time, we'll get all our power traces at one time. We can make use of lots of ChipWhisperer convenience functions:\n",
    "\n",
    "* `ktp = cw.ktp.Basic()` Object to generate our plaintext/key.\n",
    "* `key, text = ktp.next()` Generate the next plaintext (key stays constant)\n",
    "* `cw.capture_trace(scope, target, text, key)` capture a power trace using plaintext/key\n",
    "\n",
    "Again, we'll go into more detail about what we're sending/receiving, how the plaintext is being generated, etc. in the next lab."
   ]
  },
  {
   "cell_type": "code",
   "execution_count": null,
   "metadata": {},
   "outputs": [],
   "source": [
    "from tqdm.notebook import trange\n",
    "import numpy as np\n",
    "import time\n",
    "\n",
    "ktp = cw.ktp.Basic() # default - fixed key, random plaintext\n",
    "\n",
    "N = 50\n",
    "for i in trange(N, desc='Capturing traces'):\n",
    "    key, text = ktp.next() # new plaintext, same key\n",
    "    trace = cw.capture_trace(scope, target, text, key) # set key, send plaintext, receive ciphertext, capture power trace\n",
    "    if not trace:\n",
    "        continue\n",
    "    \n",
    "    proj.traces.append(trace) # store our recorded trace in our project\n",
    "    \n",
    "    # Update our plot with a new trace\n",
    "    splot.update(trace.wave) # wave is the name for the data for our power trace"
   ]
  },
  {
   "cell_type": "code",
   "execution_count": null,
   "metadata": {},
   "outputs": [],
   "source": [
    "scope.dis()\n",
    "target.dis()"
   ]
  },
  {
   "cell_type": "markdown",
   "metadata": {},
   "source": [
    "## \\#SIMULATED"
   ]
  },
  {
   "cell_type": "markdown",
   "metadata": {},
   "source": [
    "If you don't have hardware, you can instead just open a project with the power traces already recorded in it."
   ]
  },
  {
   "cell_type": "code",
   "execution_count": null,
   "metadata": {},
   "outputs": [],
   "source": [
    "# uncomment to run\n",
    "import chipwhisperer as cw\n",
    "proj = cw.open_project(\"traces/Lab_4_3.cwp\")"
   ]
  },
  {
   "cell_type": "markdown",
   "metadata": {},
   "source": [
    "## ChipWhisperer Analyzer\n",
    "\n",
    "To make side channel attacks easier, ChipWhisperer includes an analysis tool, called Analyzer, that can do most of the work for us.\n",
    "\n",
    "We can access Analyzer via `chipwhisperer.analyzer`:"
   ]
  },
  {
   "cell_type": "code",
   "execution_count": null,
   "metadata": {},
   "outputs": [],
   "source": [
    "import chipwhisperer.analyzer as cwa"
   ]
  },
  {
   "cell_type": "markdown",
   "metadata": {},
   "source": [
    "Next, we'll set our leakage model. AES, like many algorithms, can be broken down into multiple smaller steps. The leakage model basically selects which of these steps to target. For this lab, we'll be using the `sbox_output` step, which is near the beginning of AES. Which model you need to use will depend on how AES is implemented, but for software AES, the SBox is generally a good place to target."
   ]
  },
  {
   "cell_type": "code",
   "execution_count": null,
   "metadata": {},
   "outputs": [],
   "source": [
    "leak_model = cwa.leakage_models.sbox_output"
   ]
  },
  {
   "cell_type": "markdown",
   "metadata": {},
   "source": [
    "The rest of the setup only takes 1 line:"
   ]
  },
  {
   "cell_type": "code",
   "execution_count": null,
   "metadata": {},
   "outputs": [],
   "source": [
    "attack = cwa.cpa(proj, leak_model)"
   ]
  },
  {
   "cell_type": "markdown",
   "metadata": {},
   "source": [
    "If you want to see the attack settings, you can print the cpa object:"
   ]
  },
  {
   "cell_type": "code",
   "execution_count": null,
   "metadata": {},
   "outputs": [],
   "source": [
    "print(attack)"
   ]
  },
  {
   "cell_type": "markdown",
   "metadata": {},
   "source": [
    "Running the attack is also done in a single line:"
   ]
  },
  {
   "cell_type": "code",
   "execution_count": null,
   "metadata": {},
   "outputs": [],
   "source": [
    "results = attack.run()"
   ]
  },
  {
   "cell_type": "markdown",
   "metadata": {},
   "source": [
    "Let's see if we got the AES key:"
   ]
  },
  {
   "cell_type": "code",
   "execution_count": null,
   "metadata": {},
   "outputs": [],
   "source": [
    "print(cw.bytearray(results.key_guess()))\n",
    "print(proj.keys[0]) # key we recorded earlier"
   ]
  },
  {
   "cell_type": "markdown",
   "metadata": {},
   "source": [
    "We can also get a nicer printout showing the correlation we got for our guesses:"
   ]
  },
  {
   "cell_type": "code",
   "execution_count": null,
   "metadata": {},
   "outputs": [],
   "source": [
    "print(results)\n",
    "print(proj.keys[0])"
   ]
  },
  {
   "cell_type": "markdown",
   "metadata": {},
   "source": [
    "Analyzer also has the ability to report data as we run the attack:"
   ]
  },
  {
   "cell_type": "code",
   "execution_count": null,
   "metadata": {},
   "outputs": [],
   "source": [
    "cb = cwa.get_jupyter_callback(attack)\n",
    "results = attack.run(cb, 10) # report every time 10 traces are processed"
   ]
  },
  {
   "cell_type": "markdown",
   "metadata": {},
   "source": [
    "You should see the correct key appear as red text. We're able to do this because we know the key. In a more realistic scenario, a large difference in correlation between the top guess and the next best guess is a good way to see if your attack worked."
   ]
  },
  {
   "cell_type": "markdown",
   "metadata": {},
   "source": [
    "## Plotting Additional Data\n",
    "\n",
    "### Output vs. Time\n",
    "\n",
    "Now that we've seen a CPA attack work, we can use ChipWhisperer Analyzer to get some additional insights into the attack. Note that this information is only available because we know the key and therefore wouldn't be available to an attacker until they recovered the key. As such, this is of more interest to someone evaluating different implementations of AES.\n",
    "\n",
    "One thing that we often want to look at with a CPA attack is when in time the attack is succeeding at - there's only a short period that the data we care about is being manuipulated at. We can use ChipWhisperer's `output_vs_time()` function to plot this.\n",
    "\n",
    "Begin by generating the data for additional plots:"
   ]
  },
  {
   "cell_type": "code",
   "execution_count": null,
   "metadata": {},
   "outputs": [],
   "source": [
    "plot_data = cwa.analyzer_plots(results)"
   ]
  },
  {
   "cell_type": "markdown",
   "metadata": {},
   "source": [
    "Then, all we need to do is call the `output_vs_time()` method and plot the data. This function will return four datasets - the first isn't too important, but the next three are. The first of these is a plot of the correlation of the correct key guess over time, while the next two are the max and minimum correlation over time of the rest of the guesses.\n",
    "\n",
    "Plotting like this:"
   ]
  },
  {
   "cell_type": "code",
   "execution_count": null,
   "metadata": {},
   "outputs": [],
   "source": [
    "plot = cw.plot()\n",
    "data = plot_data.output_vs_time(0)\n",
    "plot *= cw.plot(data[1], label=str(0)).options(color=\"green\") \\\n",
    "* cw.plot(data[2], label=str(0)).options(color=\"black\") \\\n",
    "* cw.plot(data[3], label=str(0)).options(color=\"black\")\n",
    "plot"
   ]
  },
  {
   "cell_type": "markdown",
   "metadata": {},
   "source": [
    "should show two black plots and a green plot, with the green plot being the correct key. **Record the location of this spike by zooming in on the plot. We'll be using this value in the next lab.**"
   ]
  },
  {
   "cell_type": "code",
   "execution_count": null,
   "metadata": {},
   "outputs": [],
   "source": [
    "import holoviews as hv\n",
    "def byte_to_color(idx):\n",
    "    return hv.Palette.colormaps['Paired'](idx/16)\n",
    "\n",
    "plot = cw.plot()\n",
    "colours = []\n",
    "for i in range(0, 16):\n",
    "    data = plot_data.output_vs_time(i)\n",
    "    plot *= cw.plot(data[1], label=str(i)).options(color=byte_to_color(i)) \\\n",
    "    * cw.plot(data[2], label=str(i)).options(color=\"black\") \\\n",
    "    * cw.plot(data[3], label=str(i)).options(color=\"black\")\n",
    "plot"
   ]
  },
  {
   "cell_type": "markdown",
   "metadata": {},
   "source": [
    "You should be able to see 16 distinct spikes corresponding to each of the key bytes. As you can see, this implementation manipulates one byte at a time, but other AES implementations may manipulate multiple. For software implementations, 32-bit (4 byte) implementations are common. With hardware AES, a device may work on all 16-bytes at once, or even do multiple steps of AES in a single clock cycle!\n",
    "\n",
    "### PGE vs. Traces\n",
    "\n",
    "Another thing we may be interested in when evaluating AES implementations is how many traces it took to recover the key. While we only needed 50 traces in this lab, hardware implementations especially can require orders of magnitude more traces to recover a key. You can probably see the usefulness of knowing whether an attack took 10 000 traces to work vs. taking 1 000 000 traces to work, especially if the device you're looking at generates new keys periodically.\n",
    "\n",
    "Once way we can look at this information is a PGE vs. Traces plot. PGE stands for Partial Guessing Entropy. While the name sounds complicated, it just represents how many incorrect key guesses have a higher correlation than a correct key byte. For example, if the key byte is `0x2b` and `0xad`, `0x24`, and `0x7e` all have higher correlations, then the PGE for that part of the key is 3.\n",
    "\n",
    "We can get a PGE vs. Traces plot via `plot_data.pge_vs_trace()`:"
   ]
  },
  {
   "cell_type": "code",
   "execution_count": null,
   "metadata": {},
   "outputs": [],
   "source": [
    "ret = plot_data.pge_vs_trace(0)\n",
    "plot = cw.plot()\n",
    "#curve = hv.Curve((ret[0],ret[1]), \"Traces Used in Calculation\", \"Partial Guessing Entrop of Byte\")\n",
    "for bnum in range(0, 16):\n",
    "    ret = plot_data.pge_vs_trace(bnum)\n",
    "    plot *= cw.plot((ret[0], ret[1]))\n",
    "plot"
   ]
  },
  {
   "cell_type": "markdown",
   "metadata": {},
   "source": [
    "You should see a high PGE at the beginning, but as we process more traces, the PGE should drop.\n",
    "\n",
    "### Correlation vs. Traces\n",
    "\n",
    "Another interesting plot is Correlation vs. Traces. As you will see, all the subkey guesses start of with large correlations, but all of them except for the correct guess quickly drop off. If you didn't know the key, at what point would you be sure that the guess with the highest correlation was actually the correct subkey?\n",
    "\n",
    "Since this plot actually has a lot of data in it, we'll just plot the data for one byte of the key this time:"
   ]
  },
  {
   "cell_type": "code",
   "execution_count": null,
   "metadata": {},
   "outputs": [],
   "source": [
    "plot = cw.plot()\n",
    "data = plot_data.corr_vs_trace(0)\n",
    "for guess in data[1]:\n",
    "    plot *= cw.plot((data[0], guess))\n",
    "plot"
   ]
  },
  {
   "cell_type": "markdown",
   "metadata": {},
   "source": [
    "## Conclusions & Next Steps\n",
    "\n",
    "Congratulations on completing your first power analysis attack against AES!\n",
    "\n",
    "As you've seen, Analyzer makes launching a CPA attack easy. It also has the advantage of capturing some interesting data for us, and reporting the attack success every so often.\n",
    "\n",
    "Next lab, we'll take a more in depth look at how this attack works."
   ]
  },
  {
   "cell_type": "markdown",
   "metadata": {},
   "source": [
    "---\n",
    "<small>NO-FUN DISCLAIMER: This material is Copyright (C) NewAE Technology Inc., 2015-2023. ChipWhisperer is a trademark of NewAE Technology Inc., claimed in all jurisdictions, and registered in at least the United States of America, European Union, and Peoples Republic of China.\n",
    "\n",
    "Tutorials derived from our open-source work must be released under the associated open-source license, and notice of the source must be *clearly displayed*. Only original copyright holders may license or authorize other distribution - while NewAE Technology Inc. holds the copyright for many tutorials, the github repository includes community contributions which we cannot license under special terms and **must** be maintained as an open-source release. Please contact us for special permissions (where possible).\n",
    "\n",
    "THE SOFTWARE IS PROVIDED \"AS IS\", WITHOUT WARRANTY OF ANY KIND, EXPRESS OR IMPLIED, INCLUDING BUT NOT LIMITED TO THE WARRANTIES OF MERCHANTABILITY, FITNESS FOR A PARTICULAR PURPOSE AND NONINFRINGEMENT. IN NO EVENT SHALL THE AUTHORS OR COPYRIGHT HOLDERS BE LIABLE FOR ANY CLAIM, DAMAGES OR OTHER LIABILITY, WHETHER IN AN ACTION OF CONTRACT, TORT OR OTHERWISE, ARISING FROM, OUT OF OR IN CONNECTION WITH THE SOFTWARE OR THE USE OR OTHER DEALINGS IN THE SOFTWARE.</small>"
   ]
  }
 ],
 "metadata": {
  "kernelspec": {
   "display_name": "Python 3 (ipykernel)",
   "language": "python",
   "name": "python3"
  },
  "language_info": {
   "codemirror_mode": {
    "name": "ipython",
    "version": 3
   },
   "file_extension": ".py",
   "mimetype": "text/x-python",
   "name": "python",
   "nbconvert_exporter": "python",
   "pygments_lexer": "ipython3",
   "version": "3.9.5"
  }
 },
 "nbformat": 4,
 "nbformat_minor": 4
}
