{
 "cells": [
  {
   "cell_type": "markdown",
   "metadata": {},
   "source": [
    "# Lab 1 - Power Analysis with Passwords"
   ]
  },
  {
   "cell_type": "markdown",
   "metadata": {},
   "source": [
    "**SUMMARY:** *This tutorial will introduce you to breaking devices by determining when a device is performing certain operations. Our target device will be performing a simple password check, and we will demonstrate how to perform a basic power analysis.*\n",
    "\n",
    "**LEARNING OUTCOMES:**\n",
    "\n",
    "* How power can be used to determine timing information.\n",
    "* Plotting multiple iterations while varying input data to find interesting locations.\n",
    "* Using difference of waveforms to find interesting locations.\n",
    "* Performing power captures with ChipWhisperer hardware (hardware only)\n"
   ]
  },
  {
   "cell_type": "markdown",
   "metadata": {},
   "source": [
    "## Prerequisites"
   ]
  },
  {
   "cell_type": "markdown",
   "metadata": {},
   "source": [
    "Hold up! Before you continue, check you've done the following tutorials:\n",
    "\n",
    "* ☑ Jupyter Notebook Intro (you should be OK with plotting & running blocks).\n",
    "* ☑ SCA101 Intro (you should have an idea of how to get hardware-specific versions running)."
   ]
  },
  {
   "cell_type": "markdown",
   "metadata": {},
   "source": [
    "## Overview\n",
    "\n",
    "Now that we've seen that power analysis can be used to break a simple password check, let's put it into practice! The firmware we'll be using for this lab is `basic-passwdcheck.c`, located in `chipwhisperer/hardware/victims/firmware/basic-passwdcheck`. If you open that file, you'll see that the firmware does the following:\n",
    "\n",
    "* Prints some stuff\n",
    "* Waits for a password to be sent over serial\n",
    "* Checks the password\n",
    "* Responds based on whether or not the password is correct\n",
    "\n",
    "Let's take a closer look at the password check:\n",
    "\n",
    "```C\n",
    "for(uint8_t i = 0; i < sizeof(correct_passwd); i++){\n",
    "    if (correct_passwd[i] != passwd[i]){\n",
    "        passbad = 1;\n",
    "        break;\n",
    "    }\n",
    "}\n",
    "```\n",
    "\n",
    "As you can see, the target only checks the password until it finds an incorrect character, then breaks out of the password check loop. This means there should be a big difference between a correct character and the first incorrect byte."
   ]
  },
  {
   "cell_type": "markdown",
   "metadata": {},
   "source": [
    "## Power Trace Gathering\n",
    "\n",
    "At this point you've got to insert code to perform the power trace capture. There are two options here:\n",
    "* Capture from physical device.\n",
    "* Read from a file.\n",
    "\n",
    "You get to choose your adventure - see the two code blocks `#SIMULATED` and `#HARDWARE` to continue. The `#SIMULATED` block will load privously captured power traces, while the `#HARDWARE` block will capture power traces using a connected ChipWhisperer.\n",
    "\n",
    "Be sure you get the `\"✔️ OK to continue!\"` print once you run the next cell, otherwise things will fail later on!"
   ]
  },
  {
   "cell_type": "markdown",
   "metadata": {},
   "source": [
    "First you'll need to select which hardware setup you have. You'll need to select both a `SCOPETYPE` and a `PLATFORM`. `SCOPETYPE` can either be `'OPENADC'` for the CWLite/CW1200 or `'CWNANO'` for the CWNano. `PLATFORM` is the target device, with `'CWLITEARM'`/`'CW308_STM32F3'` being the best supported option, followed by `'CWLITEXMEGA'`/`'CW308_XMEGA'`, then by `'CWNANO'`. As of CW 5.4, you can select the SimpleSerial version\n",
    "used. For example:\n",
    "\n",
    "```python\n",
    "SCOPETYPE = 'OPENADC'\n",
    "PLATFORM = 'CWLITEARM'\n",
    "SS_VER = 'SS_VER_2_1'\n",
    "```\n",
    "\n",
    "If you're using the `#SIMULATED` block, you can skip this:"
   ]
  },
  {
   "cell_type": "markdown",
   "metadata": {},
   "source": [
    "## \\#HARDWARE"
   ]
  },
  {
   "cell_type": "code",
   "execution_count": null,
   "metadata": {},
   "outputs": [],
   "source": [
    "SCOPETYPE=\"OPENADC\"\n",
    "PLATFORM='CW308_SAM4S'\n",
    "CRYPTO_TARGET='NONE'\n",
    "VERSION='HARDWARE'\n",
    "SS_VER=\"SS_VER_2_1\""
   ]
  },
  {
   "cell_type": "markdown",
   "metadata": {},
   "source": [
    "This code will connect the scope and do some basic setup. We're now just going to use a special setup script to do this."
   ]
  },
  {
   "cell_type": "code",
   "execution_count": null,
   "metadata": {},
   "outputs": [],
   "source": [
    "%run \"../Setup_Scripts/Setup_Generic.ipynb\""
   ]
  },
  {
   "cell_type": "markdown",
   "metadata": {},
   "source": [
    "The following code will build the firmware for the target.\n"
   ]
  },
  {
   "cell_type": "code",
   "execution_count": null,
   "metadata": {},
   "outputs": [],
   "source": [
    "%%bash -s \"$PLATFORM\" \"$SS_VER\"\n",
    "cd ../../hardware/victims/firmware/basic-passwdcheck\n",
    "make PLATFORM=$1 CRYPTO_TARGET=NONE SS_VER=$2 -j"
   ]
  },
  {
   "cell_type": "markdown",
   "metadata": {},
   "source": [
    "Finally, all that's left is to program the device, which can be done with the following line:\n"
   ]
  },
  {
   "cell_type": "code",
   "execution_count": null,
   "metadata": {},
   "outputs": [],
   "source": [
    "cw.program_target(scope, prog, \"../../hardware/victims/firmware/basic-passwdcheck/basic-passwdcheck-{}.hex\".format(PLATFORM))"
   ]
  },
  {
   "cell_type": "markdown",
   "metadata": {},
   "source": [
    "To make interacting with the hardware easier, let's define a function to attempt a password and return a power trace:"
   ]
  },
  {
   "cell_type": "code",
   "execution_count": null,
   "metadata": {},
   "outputs": [],
   "source": [
    "def cap_pass_trace(pass_guess):\n",
    "    reset_target(scope)\n",
    "    num_char = target.in_waiting()\n",
    "    while num_char > 0:\n",
    "        target.read(num_char, 10)\n",
    "        time.sleep(0.01)\n",
    "        num_char = target.in_waiting()\n",
    "\n",
    "    scope.arm()\n",
    "    target.write(pass_guess)\n",
    "    ret = scope.capture()\n",
    "    if ret:\n",
    "        print('Timeout happened during acquisition')\n",
    "\n",
    "    trace = scope.get_last_trace()\n",
    "    return trace"
   ]
  },
  {
   "cell_type": "code",
   "execution_count": null,
   "metadata": {},
   "outputs": [],
   "source": [
    "scope.adc.samples = 3000"
   ]
  },
  {
   "cell_type": "code",
   "execution_count": null,
   "metadata": {},
   "outputs": [],
   "source": [
    "trace_test = cap_pass_trace(\"h\\n\")\n",
    "\n",
    "#Basic sanity check\n",
    "assert(len(trace_test) == 3000)\n",
    "print(\"✔️ OK to continue!\")"
   ]
  },
  {
   "cell_type": "markdown",
   "metadata": {},
   "source": [
    "## \\#SIMULATED"
   ]
  },
  {
   "cell_type": "markdown",
   "metadata": {},
   "source": [
    "This sends a password guess to the target device, and returns a power trace associated with the guess in question. So for example you could run:\n",
    "\n",
    "```python\n",
    "    cap_pass_trace(\"abcde\\n\")\n",
    "```\n",
    "    \n",
    "To get a power trace of `abcde`.\n",
    "\n",
    "Instead, we have a function that uses pre-recorded data. Run the following block and it should give you access to a function that uses pre-recorded data. While how you use the function is the same, note the following limitations:\n",
    "\n",
    "* Not every combination is stored in the system -- instead it stores similar power traces.\n",
    "* 100 traces are stored for each guess, and it randomly returns one to still give you the effect of noise."
   ]
  },
  {
   "cell_type": "code",
   "execution_count": null,
   "metadata": {},
   "outputs": [],
   "source": [
    "import chipwhisperer as cw\n",
    "%run \"traces/password_sim.ipynb\"\n",
    "\n",
    "trace_test = cap_pass_trace(\"h\\n\")\n",
    "\n",
    "#Basic sanity check\n",
    "assert(len(trace_test) == 3000)\n",
    "print(\"✔️ OK to continue!\")"
   ]
  },
  {
   "cell_type": "markdown",
   "metadata": {},
   "source": [
    "## Exploration"
   ]
  },
  {
   "cell_type": "markdown",
   "metadata": {},
   "source": [
    "So what can we do with this? While first off - I'm going to cheat, and tell you that we have a preset password that starts with `h`, and it's 5 characters long. But that's the only hint so far - what can you do? While first off, let's try plotting a comparison of `h` to something else.\n",
    "\n",
    "You can use the `cw.plot()` function to plot traces.\n",
    "\n",
    "The following cell shows you how to capture one power trace with `h` sent as a password. From there:\n",
    "\n",
    "1. Try adding the plotting code and see what it looks like.\n",
    "2. Send different passwords to the device. We're only going to look at the difference between a password starting with `h` and something else right now.\n",
    "3. Plot the different waveforms."
   ]
  },
  {
   "cell_type": "code",
   "execution_count": null,
   "metadata": {},
   "outputs": [],
   "source": [
    "#Example - capture 'h' - end with newline '\\n' as serial protocol expects that\n",
    "trace_h = cap_pass_trace(\"h\\n\")\n",
    "\n",
    "print(trace_h)\n",
    "\n",
    "# ###################\n",
    "# Add your code here (Code Block 1)\n",
    "# ###################\n",
    "raise NotImplementedError(\"Add your code here, and delete this.\")"
   ]
  },
  {
   "cell_type": "markdown",
   "metadata": {},
   "source": [
    "For reference, the output should look something like this:\n",
    "<img src=\"img/spa_password_h_vs_0_overview.png\" alt=\"SPA of Power Analysis\" width=\"450\"/>\n",
    "\n",
    "What you want to notice is there is two code paths taken, depending on a correct or incorrect path. Here for example is a correct & incorrect character processed:\n",
    "<img src=\"img/spa_password_h_vs_0_zoomed.png\" alt=\"SPA of Power Analysis\" width=\"450\"/>"
   ]
  },
  {
   "cell_type": "markdown",
   "metadata": {},
   "source": [
    "OK interesting -- what's next? Let's plot every possible password character we could send.\n",
    "\n",
    "Our password implementation only recognizes characters in the list `abcdefghijklmnopqrstuvwxyz0123456789`, so we're going to limit it to those valid characters for now.\n",
    "\n",
    "Write some code in the following block that implements the following algorithm:\n",
    "\n",
    "```python\n",
    "plot = cw.plot()\n",
    "for CHARACTER in LIST_OF_VALID_CHARACTERS:\n",
    "    trace = cap_pass_trace(CHARACTER + \"\\n\")\n",
    "    plot *= cw.plot(trace)\n",
    "display(plot)\n",
    "```\n",
    "        \n",
    "The above isn't quite valid code - so massage it into place! You also may notice the traces are way too long - you might want to make a more narrow plot that only does the first say 500 samples of the power trace."
   ]
  },
  {
   "cell_type": "code",
   "execution_count": null,
   "metadata": {},
   "outputs": [],
   "source": [
    "# ###################\n",
    "# Add your code here (Code Block 2)\n",
    "# ###################\n",
    "raise NotImplementedError(\"Add your code here, and delete this.\")"
   ]
  },
  {
   "cell_type": "markdown",
   "metadata": {},
   "source": [
    "The end result should be if you zoom in, you'll see there is a location where a single \"outlier\" trace doesn't follow the path of all the other traces. That is great news, since it means we learn something about the system from power analysis.\n",
    "\n",
    "<img src=\"img/spa_password_list_char1.png\" alt=\"SPA of Power Analysis against all inputs\" width=\"450\"/>"
   ]
  },
  {
   "cell_type": "markdown",
   "metadata": {},
   "source": [
    "## Automating an Attack against One Character"
   ]
  },
  {
   "cell_type": "markdown",
   "metadata": {},
   "source": [
    "To start with - we're going to automate an attack against a **single** character of the password. Since we don't know the password (let's assume), we'll use a strategy of comparing all possible inputs together.\n",
    "\n",
    "An easy way to do this might be to use something that we know can't be part of the valid password. As long as it's processed the same way, this will work just fine. `0x00` is actually ignored at the start of passwords, so for now, let's use a password as `0x01` (i.e., an invalid byte). We can compare this byte to processing something else:"
   ]
  },
  {
   "cell_type": "code",
   "execution_count": null,
   "metadata": {},
   "outputs": [],
   "source": [
    "ref_trace = cap_pass_trace(\"\\x01\\n\")[0:1000]\n",
    "other_trace = cap_pass_trace(\"c\\n\")[0:1000]\n",
    "\n",
    "cw.plot(ref_trace) * cw.plot(other_trace)"
   ]
  },
  {
   "cell_type": "markdown",
   "metadata": {},
   "source": [
    "This will plot a trace with an input of \"\\x01\". This is an invalid character, and seems to be processed as any other invalid password.\n",
    "\n",
    "Let's make this a little more obvious, and plot the difference between a known reference & every other capture. You need to write some code that does something like this:\n",
    "\n",
    "```python\n",
    "ref_trace = cap_pass_trace( \"\\x01\\n\")\n",
    "plot = cw.plot()\n",
    "\n",
    "for CHARACTER in LIST_OF_VALID_CHARACTERS:\n",
    "    trace = cap_pass_trace(CHARACTER + \"\\n\")\n",
    "    plot *= cw.plot(trace - ref_trace)\n",
    "display(plot)\n",
    "```\n",
    "\n",
    "Also notice in the above example how I reduced the number of samples."
   ]
  },
  {
   "cell_type": "code",
   "execution_count": null,
   "metadata": {},
   "outputs": [],
   "source": [
    "# ###################\n",
    "# Add your code here (Code Block 3)\n",
    "# ###################\n",
    "raise NotImplementedError(\"Add your code here, and delete this.\")"
   ]
  },
  {
   "cell_type": "markdown",
   "metadata": {},
   "source": [
    "OK great - hopefully you now see one major \"difference\". It should look something like this:\n",
    "    \n",
    "<img src=\"img/spa_password_diffexample.png\" alt=\"SPA with Difference\" width=\"450\"/>\n",
    "    "
   ]
  },
  {
   "cell_type": "markdown",
   "metadata": {},
   "source": [
    "What do we do now? Let's make this thing automatically detect such a large difference. Some handy stuff to try out is the `np.sum()` and `np.abs()` function.\n",
    "\n",
    "The first one will get absolute values:\n",
    "\n",
    "```python\n",
    "import numpy as np\n",
    "np.abs([-1, -3, 1, -5, 6])\n",
    "\n",
    "    Out[]: array([1, 3, 1, 5, 6])\n",
    "```\n",
    "\n",
    "The second one will add up all the numbers.\n",
    "\n",
    "```python\n",
    "import numpy as np    \n",
    "np.sum([-1, -3, 1, -5, 6])\n",
    "\n",
    "    Out[]: -2\n",
    "```\n",
    "\n",
    "Using just `np.sum()` means positive and negative differences will cancel each other out - so it's better to do something like `np.sum(np.abs(DIFF))` to get a good number indicating how \"close\" the match was.\n"
   ]
  },
  {
   "cell_type": "code",
   "execution_count": null,
   "metadata": {},
   "outputs": [],
   "source": [
    "import numpy as np\n",
    "np.abs([-1, -3, 1, -5, 6])"
   ]
  },
  {
   "cell_type": "code",
   "execution_count": null,
   "metadata": {},
   "outputs": [],
   "source": [
    "import numpy as np\n",
    "np.sum([-1, -3, 1, -5, 6])"
   ]
  },
  {
   "cell_type": "code",
   "execution_count": null,
   "metadata": {},
   "outputs": [],
   "source": [
    "np.sum(np.abs([-1, -3, 1, -5, 6]))"
   ]
  },
  {
   "cell_type": "markdown",
   "metadata": {},
   "source": [
    "Taking your above loop, modify it to print an indicator of how closely this matches your trace. Something like the following should work:\n",
    "\n",
    "```python\n",
    "ref_trace = cap_pass_trace( \"\\x01\\n\")\n",
    "\n",
    "for CHARACTER in LIST_OF_VALID_CHARACTERS:\n",
    "    trace = cap_pass_trace(CHARACTER + \"\\n\")\n",
    "    diff = SUM(ABS(trace - ref_trace))\n",
    "\n",
    "    print(\"{:1} diff = {:2}\".format(CHARACTER, diff))\n",
    "```"
   ]
  },
  {
   "cell_type": "code",
   "execution_count": null,
   "metadata": {},
   "outputs": [],
   "source": [
    "# ###################\n",
    "# Add your code here (Code Block 4)\n",
    "# ###################\n",
    "raise NotImplementedError(\"Add your code here, and delete this.\")"
   ]
  },
  {
   "cell_type": "markdown",
   "metadata": {},
   "source": [
    "Now the easy part - modify your above code to automatically print the correct password character. This should be done with a comparison of the `diff` variable - based on the printed characters, you should see one that is 'higher' than the others."
   ]
  },
  {
   "cell_type": "markdown",
   "metadata": {},
   "source": [
    "## Running a Full Attack"
   ]
  },
  {
   "cell_type": "markdown",
   "metadata": {},
   "source": [
    "Finally - let's finish this off. Rather than attacking a single character, we need to attack each character in sequence.\n",
    "\n",
    "If you go back to the plotting of differences, you can try using the correct first character & wrong second character. The basic idea is exactly the same as before, but now we loop through 5 times, and just build up the password based on brute-forcing each character.\n",
    "\n",
    "Another way you could attack this is by running through all the characters and picking the one with the largest difference.\n",
    "\n",
    "Take a look at the following for the basic pseudo-code:\n",
    "\n",
    "```python\n",
    "guessed_pw = \"\" #Store guessed password so far\n",
    "\n",
    "do a loop 5 times (max password size):\n",
    "\n",
    "    ref_trace = capture power trace(guessed_pw + \"\\x01\\n\")\n",
    "\n",
    "    for CHARACTER in LIST_OF_VALID_CHARACTERS:\n",
    "        trace = capture power trace (guessed_pw + CHARACTER + newline)\n",
    "        diff = SUM(ABS(trace - ref_trace))\n",
    "\n",
    "        if diff > THRESHOLD:\n",
    "\n",
    "            guessed_pwd += c\n",
    "            print(guessed_pw)\n",
    "\n",
    "            break\n",
    "```"
   ]
  },
  {
   "cell_type": "code",
   "execution_count": null,
   "metadata": {},
   "outputs": [],
   "source": [
    "# ###################\n",
    "# Add your code here (Code Block 5)\n",
    "# ###################\n",
    "raise NotImplementedError(\"Add your code here, and delete this.\")"
   ]
  },
  {
   "cell_type": "markdown",
   "metadata": {},
   "source": [
    "You should get an output that looks like this:\n",
    "\n",
    "```\n",
    "    h\n",
    "    h0\n",
    "    h0p\n",
    "    h0px\n",
    "    h0px3\n",
    "```\n",
    "\n",
    "If so - 🥳🥳🥳🥳🥳🥳🥳🥳🥳🥳🥳🥳🥳 Congrats - you did it!!!!\n",
    "\n",
    "If not - check some troubleshooting hints below. If you get really stuck, check the `SOLN` version (there is one for both with hardware and simulated)."
   ]
  },
  {
   "cell_type": "markdown",
   "metadata": {},
   "source": [
    "## Troubleshooting - Always get 'h'"
   ]
  },
  {
   "cell_type": "markdown",
   "metadata": {},
   "source": [
    "Some common problems you might run into - first, if you get an output which keeps guessing the first character:\n",
    "\n",
    "```\n",
    "    h\n",
    "    hh\n",
    "    hhh\n",
    "    hhhh\n",
    "    hhhhh\n",
    "```\n",
    "\n",
    "Check that when you run the `cap_pass_trace` inside the loop (checking the guessed password), are you updating the prefix of the password? For example, the old version of the code (guessing a single character) looked like this:\n",
    "\n",
    "```python\n",
    "    trace = cap_pass_trace(c + \"\\n\")\n",
    "```\n",
    "\n",
    "But that is always sending our first character only! So we need to send the \"known good password so far\". In the example code something like this:\n",
    "\n",
    "```python\n",
    "    trace = cap_pass_trace(guessed_pw + c + \"\\n\")\n",
    "```\n",
    "\n",
    "Where `guessed_pw` progressively grows with the known good start of the password.\n",
    "\n",
    "#### Troubleshooting - Always get 'a'\n",
    "\n",
    "This looks like it's always matching the first character:\n",
    "\n",
    "```\n",
    "    h\n",
    "    ha\n",
    "    haa\n",
    "    haaa\n",
    "    haaaa\n",
    "```\n",
    "\n",
    "Check that you update the `ref_trace` - if you re-use the original reference trace, you won't be looking at a reference where the first N characters are good, and the remaining characters are bad. An easy way to do this is again using the `guessed_pw` variable and appending a null + newline:\n",
    "\n",
    "```python\n",
    "    trace = cap_pass_trace(guessed_pw + \"\\x01\\n\")\n",
    "```"
   ]
  },
  {
   "cell_type": "markdown",
   "metadata": {},
   "source": [
    "## A Better Password Solution\n",
    "\n",
    "There's a few different ways fix this attack vector. The most obvious is to make the password check take a constant amount of time:\n",
    "\n",
    "```C\n",
    "// change correct_passwd[] to correct_passwd[32]\n",
    "// make sure not to use the length of the correct password to avoid leaking password length\n",
    "uint8_t passlen = strnlen(passwd, 31); \n",
    "for(uint8_t i = 0; i < passlen; i++){\n",
    "    passbad |= correct_passwd[i] ^ passwd[i];\n",
    "}\n",
    "```\n",
    "\n",
    "Another fix is to use a secure hash function, such as SHA256, to transform the correct and submitted passwords before comparing them. This has the advantage of not requiring the firmware to store the correct password, just its hash. Passwords are often combined with \"salt\" to protect against additional attacks."
   ]
  },
  {
   "cell_type": "code",
   "execution_count": null,
   "metadata": {},
   "outputs": [],
   "source": [
    "assert guessed_pw == 'h0px3', \"Failed to break password\""
   ]
  }
 ],
 "metadata": {
  "kernelspec": {
   "display_name": "Python 3 (ipykernel)",
   "language": "python",
   "name": "python3"
  },
  "language_info": {
   "codemirror_mode": {
    "name": "ipython",
    "version": 3
   },
   "file_extension": ".py",
   "mimetype": "text/x-python",
   "name": "python",
   "nbconvert_exporter": "python",
   "pygments_lexer": "ipython3",
   "version": "3.9.5"
  }
 },
 "nbformat": 4,
 "nbformat_minor": 4
}
